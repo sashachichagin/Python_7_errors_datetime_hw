{
 "cells": [
  {
   "cell_type": "markdown",
   "metadata": {},
   "source": [
    "### Задание 1\n",
    "\n",
    "Напишите функцию date_range, которая возвращает список дней между датами start_date и end_date. Даты должны вводиться в формате YYYY-MM-DD."
   ]
  },
  {
   "cell_type": "code",
   "execution_count": 1,
   "metadata": {},
   "outputs": [],
   "source": [
    "from datetime import datetime\n",
    "from datetime import timedelta"
   ]
  },
  {
   "cell_type": "code",
   "execution_count": 8,
   "metadata": {},
   "outputs": [],
   "source": [
    "def date_range(start_date, end_date):\n",
    "    \n",
    "    list_date =[]\n",
    "    start_date_dt = datetime.strptime(start_date, '%Y-%m-%d')\n",
    "    end_date_dt = datetime.strptime(end_date, '%Y-%m-%d')\n",
    "    current_date_dt = start_date_dt\n",
    "    \n",
    "    while current_date_dt < end_date_dt - timedelta(days=1):\n",
    "        current_date_dt += timedelta(days=1)\n",
    "        current_date = current_date_dt.strftime('%Y-%m-%d')\n",
    "        list_date.append(current_date)    \n",
    "    return list_date"
   ]
  },
  {
   "cell_type": "code",
   "execution_count": 9,
   "metadata": {},
   "outputs": [
    {
     "data": {
      "text/plain": [
       "['2020-01-02', '2020-01-03', '2020-01-04', '2020-01-05', '2020-01-06']"
      ]
     },
     "execution_count": 9,
     "metadata": {},
     "output_type": "execute_result"
    }
   ],
   "source": [
    "date_range('2020-01-01', '2020-01-07')"
   ]
  },
  {
   "cell_type": "markdown",
   "metadata": {},
   "source": [
    "### Задание 2\n",
    "Дополните функцию из первого задания проверкой на корректность дат. В случае неверного формата или если start_date > end_date должен возвращаться пустой список."
   ]
  },
  {
   "cell_type": "code",
   "execution_count": 11,
   "metadata": {},
   "outputs": [],
   "source": [
    "def date_range(start_date, end_date):\n",
    "    list_date =[]\n",
    "    try:\n",
    "        start_date_dt = datetime.strptime(start_date, '%Y-%m-%d')    \n",
    "        end_date_dt = datetime.strptime(end_date, '%Y-%m-%d')\n",
    "    except:\n",
    "        return list_date\n",
    "    if start_date_dt > end_date_dt:\n",
    "        return list_date\n",
    "    current_date_dt = start_date_dt\n",
    "        \n",
    "    while current_date_dt < end_date_dt - timedelta(days=1):\n",
    "        current_date_dt += timedelta(days=1)\n",
    "        current_date = current_date_dt.strftime('%Y-%m-%d')\n",
    "        list_date.append(current_date)    \n",
    "    return list_date"
   ]
  },
  {
   "cell_type": "code",
   "execution_count": 97,
   "metadata": {},
   "outputs": [
    {
     "data": {
      "text/plain": [
       "[]"
      ]
     },
     "execution_count": 97,
     "metadata": {},
     "output_type": "execute_result"
    }
   ],
   "source": [
    "date_range('2020-01-12', '2020-01-07')"
   ]
  },
  {
   "cell_type": "markdown",
   "metadata": {},
   "source": [
    "### Задание 3\n",
    "Дан поток дат в формате YYYY-MM-DD, в которых встречаются некорректные значения:\n",
    "stream = [‘2018-04-02’, ‘2018-02-29’, ‘2018-19-02’]\n",
    "\n",
    "Напишите функцию, которая проверяет эти даты на корректность. Т. е. для каждой даты возвращает True (дата корректна) или False (некорректная дата)"
   ]
  },
  {
   "cell_type": "code",
   "execution_count": 34,
   "metadata": {},
   "outputs": [],
   "source": [
    "def date_correctness(*date_list):\n",
    "    stream_dict = dict()\n",
    "    for current_date in date_list[0]:\n",
    "        try:\n",
    "            datetime.strptime(current_date, '%Y-%m-%d') \n",
    "            stream_dict[current_date] = 'True'\n",
    "        except:\n",
    "             stream_dict[current_date] = 'False'            \n",
    "    return stream_dict        "
   ]
  },
  {
   "cell_type": "code",
   "execution_count": 41,
   "metadata": {},
   "outputs": [],
   "source": [
    "stream = ['2018-04-02', '2018-02-29', '2018-19-02']"
   ]
  },
  {
   "cell_type": "code",
   "execution_count": 42,
   "metadata": {},
   "outputs": [
    {
     "data": {
      "text/plain": [
       "{'2018-04-02': 'True', '2018-02-29': 'False', '2018-19-02': 'False'}"
      ]
     },
     "execution_count": 42,
     "metadata": {},
     "output_type": "execute_result"
    }
   ],
   "source": [
    "date_correctness(stream)"
   ]
  },
  {
   "cell_type": "markdown",
   "metadata": {},
   "source": [
    "### Задание 4 (бонусное)\n",
    "Ваш коллега прислал код функции:\n",
    "\n",
    "DEFAULT_USER_COUNT = 3\n",
    "\n",
    "def delete_and_return_last_user(region, default_list=[‘A100’, ‘A101’, ‘A102’]):\n",
    "\n",
    "\"\"“\n",
    "Удаляет из списка default_list последнего пользователя\n",
    "и возвращает ID нового последнего пользователя.\n",
    "”\"\"\n",
    "\n",
    "element_to_delete = default_list[-1]\n",
    "default_list.remove(element_to_delete)\n",
    "\n",
    "return default_list[DEFAULT_USER_COUNT-2]\n",
    "\n",
    "При однократном вызове этой функции все работает корректно:\n",
    "delete_and_return_last_user(1)\n",
    "‘A101’\n",
    "\n",
    "Однако, при повторном вызове получается ошибка IndexError: list index out of range.\n",
    "\n",
    "#### Задание:\n",
    "\n",
    "1. Что значит ошибка list index out of range?\n",
    "2. Почему при первом запуске функция работает корректно, а при втором - нет?"
   ]
  },
  {
   "cell_type": "code",
   "execution_count": 69,
   "metadata": {},
   "outputs": [],
   "source": [
    "DEFAULT_USER_COUNT = 3\n",
    "\n",
    "def delete_and_return_last_user(region, default_list=['A100', 'A101', 'A102']):\n",
    "    \"\"\"\n",
    "    Удаляет из списка default_list последнего пользователя\n",
    "    и возвращает ID нового последнего пользователя.\n",
    "    \"\"\"\n",
    "    element_to_delete = default_list[-1]\n",
    "    default_list.remove(element_to_delete)\n",
    "    \n",
    "    return default_list[DEFAULT_USER_COUNT-2]"
   ]
  },
  {
   "cell_type": "code",
   "execution_count": 71,
   "metadata": {},
   "outputs": [
    {
     "ename": "IndexError",
     "evalue": "list index out of range",
     "output_type": "error",
     "traceback": [
      "\u001b[1;31m---------------------------------------------------------------------------\u001b[0m",
      "\u001b[1;31mIndexError\u001b[0m                                Traceback (most recent call last)",
      "\u001b[1;32m<ipython-input-71-bfb6c4f8c48e>\u001b[0m in \u001b[0;36m<module>\u001b[1;34m\u001b[0m\n\u001b[1;32m----> 1\u001b[1;33m \u001b[0mdelete_and_return_last_user\u001b[0m\u001b[1;33m(\u001b[0m\u001b[1;36m1\u001b[0m\u001b[1;33m)\u001b[0m\u001b[1;33m\u001b[0m\u001b[1;33m\u001b[0m\u001b[0m\n\u001b[0m",
      "\u001b[1;32m<ipython-input-69-d1e10a471d9f>\u001b[0m in \u001b[0;36mdelete_and_return_last_user\u001b[1;34m(region, default_list)\u001b[0m\n\u001b[0;32m      9\u001b[0m     \u001b[0mdefault_list\u001b[0m\u001b[1;33m.\u001b[0m\u001b[0mremove\u001b[0m\u001b[1;33m(\u001b[0m\u001b[0melement_to_delete\u001b[0m\u001b[1;33m)\u001b[0m\u001b[1;33m\u001b[0m\u001b[1;33m\u001b[0m\u001b[0m\n\u001b[0;32m     10\u001b[0m \u001b[1;33m\u001b[0m\u001b[0m\n\u001b[1;32m---> 11\u001b[1;33m     \u001b[1;32mreturn\u001b[0m \u001b[0mdefault_list\u001b[0m\u001b[1;33m[\u001b[0m\u001b[0mDEFAULT_USER_COUNT\u001b[0m\u001b[1;33m-\u001b[0m\u001b[1;36m2\u001b[0m\u001b[1;33m]\u001b[0m\u001b[1;33m\u001b[0m\u001b[1;33m\u001b[0m\u001b[0m\n\u001b[0m",
      "\u001b[1;31mIndexError\u001b[0m: list index out of range"
     ]
    }
   ],
   "source": [
    "delete_and_return_last_user(1)"
   ]
  },
  {
   "cell_type": "code",
   "execution_count": null,
   "metadata": {},
   "outputs": [],
   "source": [
    "# 1. Ошибка IndexError - индекс не входит в диапазон элементов. \n",
    "# А именно в 11 строке при возврате элемента списка."
   ]
  },
  {
   "cell_type": "code",
   "execution_count": null,
   "metadata": {},
   "outputs": [],
   "source": [
    "# 2. При первом запуске удаляется 3-й элемент списка.\n",
    "# И возвращается default_list[DEFAULT_USER_COUNT-2] = default_list[1] второй элемент списка.\n",
    "# Он при первом запуске и будет последним после удаления 3-го элемента.\n",
    "# А вот при втором запуске функции удаляется ещё один элемент. \n",
    "# При этом функция будет возвращать всё тот же элемент списка default_list[1], \n",
    "# который уже удалён."
   ]
  },
  {
   "cell_type": "code",
   "execution_count": 92,
   "metadata": {},
   "outputs": [],
   "source": [
    "# Можно немного модифицировать функцию, чтобы исключить ошибки \n",
    "\n",
    "def delete_and_return_last_user(region, default_list=['A100', 'A101', 'A102']):\n",
    "    \"\"\"\n",
    "    Удаляет из списка default_list последнего пользователя\n",
    "    и возвращает ID нового последнего пользователя.\n",
    "    \"\"\"\n",
    "    element_to_delete = default_list[-1]\n",
    "    default_list.remove(element_to_delete)\n",
    "    \n",
    "    try:\n",
    "        return default_list[-1]\n",
    "    except IndexError:\n",
    "        return print('Все пользователи удалены')\n",
    "  \n",
    "        "
   ]
  },
  {
   "cell_type": "code",
   "execution_count": 95,
   "metadata": {},
   "outputs": [
    {
     "name": "stdout",
     "output_type": "stream",
     "text": [
      "Все пользователи удалены\n"
     ]
    }
   ],
   "source": [
    "delete_and_return_last_user(1)"
   ]
  }
 ],
 "metadata": {
  "kernelspec": {
   "display_name": "Python 3",
   "language": "python",
   "name": "python3"
  },
  "language_info": {
   "codemirror_mode": {
    "name": "ipython",
    "version": 3
   },
   "file_extension": ".py",
   "mimetype": "text/x-python",
   "name": "python",
   "nbconvert_exporter": "python",
   "pygments_lexer": "ipython3",
   "version": "3.7.4"
  }
 },
 "nbformat": 4,
 "nbformat_minor": 2
}
